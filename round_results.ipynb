{
 "cells": [
  {
   "cell_type": "code",
   "execution_count": 24,
   "id": "8171b0a5-944b-422a-8034-ce71ee2ae03c",
   "metadata": {},
   "outputs": [],
   "source": [
    "from IPython.display import SVG, display, Image\n",
    "import cairo\n",
    "\n",
    "DISP_WIDTH = 512\n",
    "DISP_HEIGHT = 256\n",
    "line_width = 0.002\n",
    "\n",
    "# Display image in jupyter\n",
    "def show_img(file):\n",
    "    display(Image(filename=file))\n",
    "    \n",
    "def show_svg(file):\n",
    "    display(SVG(filename=file))\n",
    "\n",
    "# Decorator to display any cairo drawing. Saves result at tmp/example.svg and then shows.\n",
    "def disp(*args, width = DISP_WIDTH, height = DISP_HEIGHT, **kwargs):\n",
    "    def decorator_func(draw_func):\n",
    "        with cairo.SVGSurface(\"tmp/tmp.svg\", width, height) as surface:\n",
    "            ctx = cairo.Context(surface)\n",
    "            \n",
    "            # border\n",
    "            ctx.set_source_rgba(0, 0, 0, 1)\n",
    "            ctx.rectangle(0, 0, width, height)\n",
    "            ctx.set_line_width(2 * line_width * width)\n",
    "            ctx.stroke()\n",
    "            \n",
    "            draw_func(ctx, *args, **kwargs)\n",
    "        show_svg(\"tmp/tmp.svg\")\n",
    "    return decorator_func"
   ]
  },
  {
   "cell_type": "code",
   "execution_count": 35,
   "id": "6414067b-cc9b-46f5-9c38-8d96d1d1a66b",
   "metadata": {},
   "outputs": [
    {
     "data": {
      "image/svg+xml": [
       "<svg xmlns=\"http://www.w3.org/2000/svg\" xmlns:xlink=\"http://www.w3.org/1999/xlink\" width=\"512pt\" height=\"256pt\" viewBox=\"0 0 512 256\" version=\"1.1\">\n",
       "<g id=\"surface106\">\n",
       "<path style=\"fill:none;stroke-width:2.048;stroke-linecap:butt;stroke-linejoin:miter;stroke:rgb(0%,0%,0%);stroke-opacity:1;stroke-miterlimit:10;\" d=\"M 0 0 L 512 0 L 512 256 L 0 256 Z M 0 0 \"/>\n",
       "<path style=\"fill:none;stroke-width:0.002;stroke-linecap:butt;stroke-linejoin:miter;stroke:rgb(0%,0%,0%);stroke-opacity:1;stroke-miterlimit:10;\" d=\"M 0 0 L 0 9 \" transform=\"matrix(56.888889,0,0,28.444444,0,0)\"/>\n",
       "<path style=\"fill:none;stroke-width:0.002;stroke-linecap:butt;stroke-linejoin:miter;stroke:rgb(0%,0%,0%);stroke-opacity:1;stroke-miterlimit:10;\" d=\"M 1.000031 0 L 1.000031 9 \" transform=\"matrix(56.888889,0,0,28.444444,0,0)\"/>\n",
       "<path style=\"fill:none;stroke-width:0.002;stroke-linecap:butt;stroke-linejoin:miter;stroke:rgb(0%,0%,0%);stroke-opacity:1;stroke-miterlimit:10;\" d=\"M 1.999992 0 L 1.999992 9 \" transform=\"matrix(56.888889,0,0,28.444444,0,0)\"/>\n",
       "<path style=\"fill:none;stroke-width:0.002;stroke-linecap:butt;stroke-linejoin:miter;stroke:rgb(0%,0%,0%);stroke-opacity:1;stroke-miterlimit:10;\" d=\"M 3.000023 0 L 3.000023 9 \" transform=\"matrix(56.888889,0,0,28.444444,0,0)\"/>\n",
       "<path style=\"fill:none;stroke-width:0.002;stroke-linecap:butt;stroke-linejoin:miter;stroke:rgb(0%,0%,0%);stroke-opacity:1;stroke-miterlimit:10;\" d=\"M 3.999985 0 L 3.999985 9 \" transform=\"matrix(56.888889,0,0,28.444444,0,0)\"/>\n",
       "<path style=\"fill:none;stroke-width:0.002;stroke-linecap:butt;stroke-linejoin:miter;stroke:rgb(0%,0%,0%);stroke-opacity:1;stroke-miterlimit:10;\" d=\"M 5.000015 0 L 5.000015 9 \" transform=\"matrix(56.888889,0,0,28.444444,0,0)\"/>\n",
       "<path style=\"fill:none;stroke-width:0.002;stroke-linecap:butt;stroke-linejoin:miter;stroke:rgb(0%,0%,0%);stroke-opacity:1;stroke-miterlimit:10;\" d=\"M 5.999977 0 L 5.999977 9 \" transform=\"matrix(56.888889,0,0,28.444444,0,0)\"/>\n",
       "<path style=\"fill:none;stroke-width:0.002;stroke-linecap:butt;stroke-linejoin:miter;stroke:rgb(0%,0%,0%);stroke-opacity:1;stroke-miterlimit:10;\" d=\"M 7.000008 0 L 7.000008 9 \" transform=\"matrix(56.888889,0,0,28.444444,0,0)\"/>\n",
       "<path style=\"fill:none;stroke-width:0.002;stroke-linecap:butt;stroke-linejoin:miter;stroke:rgb(0%,0%,0%);stroke-opacity:1;stroke-miterlimit:10;\" d=\"M 7.999969 0 L 7.999969 9 \" transform=\"matrix(56.888889,0,0,28.444444,0,0)\"/>\n",
       "<path style=\"fill:none;stroke-width:0.002;stroke-linecap:butt;stroke-linejoin:miter;stroke:rgb(0%,0%,0%);stroke-opacity:1;stroke-miterlimit:10;\" d=\"M 9 0 L 9 9 \" transform=\"matrix(56.888889,0,0,28.444444,0,0)\"/>\n",
       "<path style=\"fill:none;stroke-width:0.002;stroke-linecap:butt;stroke-linejoin:miter;stroke:rgb(0%,0%,0%);stroke-opacity:1;stroke-miterlimit:10;\" d=\"M 0 0 L 9 0 \" transform=\"matrix(56.888889,0,0,28.444444,0,0)\"/>\n",
       "<path style=\"fill:none;stroke-width:0.002;stroke-linecap:butt;stroke-linejoin:miter;stroke:rgb(0%,0%,0%);stroke-opacity:1;stroke-miterlimit:10;\" d=\"M 0 1.000031 L 9 1.000031 \" transform=\"matrix(56.888889,0,0,28.444444,0,0)\"/>\n",
       "<path style=\"fill:none;stroke-width:0.002;stroke-linecap:butt;stroke-linejoin:miter;stroke:rgb(0%,0%,0%);stroke-opacity:1;stroke-miterlimit:10;\" d=\"M 0 2.000061 L 9 2.000061 \" transform=\"matrix(56.888889,0,0,28.444444,0,0)\"/>\n",
       "<path style=\"fill:none;stroke-width:0.002;stroke-linecap:butt;stroke-linejoin:miter;stroke:rgb(0%,0%,0%);stroke-opacity:1;stroke-miterlimit:10;\" d=\"M 0 2.999954 L 9 2.999954 \" transform=\"matrix(56.888889,0,0,28.444444,0,0)\"/>\n",
       "<path style=\"fill:none;stroke-width:0.002;stroke-linecap:butt;stroke-linejoin:miter;stroke:rgb(0%,0%,0%);stroke-opacity:1;stroke-miterlimit:10;\" d=\"M 0 3.999985 L 9 3.999985 \" transform=\"matrix(56.888889,0,0,28.444444,0,0)\"/>\n",
       "<path style=\"fill:none;stroke-width:0.002;stroke-linecap:butt;stroke-linejoin:miter;stroke:rgb(0%,0%,0%);stroke-opacity:1;stroke-miterlimit:10;\" d=\"M 0 5.000015 L 9 5.000015 \" transform=\"matrix(56.888889,0,0,28.444444,0,0)\"/>\n",
       "<path style=\"fill:none;stroke-width:0.002;stroke-linecap:butt;stroke-linejoin:miter;stroke:rgb(0%,0%,0%);stroke-opacity:1;stroke-miterlimit:10;\" d=\"M 0 6.000046 L 9 6.000046 \" transform=\"matrix(56.888889,0,0,28.444444,0,0)\"/>\n",
       "<path style=\"fill:none;stroke-width:0.002;stroke-linecap:butt;stroke-linejoin:miter;stroke:rgb(0%,0%,0%);stroke-opacity:1;stroke-miterlimit:10;\" d=\"M 0 6.999939 L 9 6.999939 \" transform=\"matrix(56.888889,0,0,28.444444,0,0)\"/>\n",
       "<path style=\"fill:none;stroke-width:0.002;stroke-linecap:butt;stroke-linejoin:miter;stroke:rgb(0%,0%,0%);stroke-opacity:1;stroke-miterlimit:10;\" d=\"M 0 7.999969 L 9 7.999969 \" transform=\"matrix(56.888889,0,0,28.444444,0,0)\"/>\n",
       "<path style=\"fill:none;stroke-width:0.002;stroke-linecap:butt;stroke-linejoin:miter;stroke:rgb(0%,0%,0%);stroke-opacity:1;stroke-miterlimit:10;\" d=\"M 0 9 L 9 9 \" transform=\"matrix(56.888889,0,0,28.444444,0,0)\"/>\n",
       "</g>\n",
       "</svg>"
      ],
      "text/plain": [
       "<IPython.core.display.SVG object>"
      ]
     },
     "metadata": {},
     "output_type": "display_data"
    }
   ],
   "source": [
    "@disp()\n",
    "def draw_grid(ctx):\n",
    "    ctx.set_source_rgb(0, 0, 0)\n",
    "    ctx.set_line_width(line_width)\n",
    "    ctx.scale(DISP_WIDTH/9, DISP_HEIGHT/9)\n",
    "    \n",
    "    for x in range(10):\n",
    "        ctx.move_to(x, 0)\n",
    "        ctx.line_to(x, 9)\n",
    "        ctx.stroke()\n",
    "    for y in range(10):\n",
    "        ctx.move_to(0, y)\n",
    "        ctx.line_to(9, y)\n",
    "        ctx.stroke()\n",
    "        "
   ]
  },
  {
   "cell_type": "code",
   "execution_count": null,
   "id": "f34154ce-c71e-4bb3-9a1c-c4dbac2f9fde",
   "metadata": {},
   "outputs": [],
   "source": []
  }
 ],
 "metadata": {
  "kernelspec": {
   "display_name": "cairo",
   "language": "python",
   "name": "cairo"
  },
  "language_info": {
   "codemirror_mode": {
    "name": "ipython",
    "version": 3
   },
   "file_extension": ".py",
   "mimetype": "text/x-python",
   "name": "python",
   "nbconvert_exporter": "python",
   "pygments_lexer": "ipython3",
   "version": "3.10.4"
  }
 },
 "nbformat": 4,
 "nbformat_minor": 5
}
